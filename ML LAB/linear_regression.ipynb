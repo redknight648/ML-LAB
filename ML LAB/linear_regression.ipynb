{
 "cells": [
  {
   "cell_type": "code",
   "execution_count": 2,
   "metadata": {},
   "outputs": [
    {
     "name": "stdout",
     "output_type": "stream",
     "text": [
      "<class 'pandas.core.frame.DataFrame'>\n",
      "RangeIndex: 200 entries, 0 to 199\n",
      "Data columns (total 4 columns):\n",
      " #   Column     Non-Null Count  Dtype  \n",
      "---  ------     --------------  -----  \n",
      " 0   sales      200 non-null    float64\n",
      " 1   youtube    200 non-null    float64\n",
      " 2   facebook   200 non-null    float64\n",
      " 3   newspaper  200 non-null    float64\n",
      "dtypes: float64(4)\n",
      "memory usage: 6.4 KB\n",
      "                            OLS Regression Results                            \n",
      "==============================================================================\n",
      "Dep. Variable:                  sales   R-squared:                       0.897\n",
      "Model:                            OLS   Adj. R-squared:                  0.896\n",
      "Method:                 Least Squares   F-statistic:                     571.0\n",
      "Date:                Sat, 06 Aug 2022   Prob (F-statistic):           1.40e-96\n",
      "Time:                        18:07:59   Log-Likelihood:                -422.53\n",
      "No. Observations:                 200   AIC:                             853.1\n",
      "Df Residuals:                     196   BIC:                             866.2\n",
      "Df Model:                           3                                         \n",
      "Covariance Type:            nonrobust                                         \n",
      "==============================================================================\n",
      "                 coef    std err          t      P>|t|      [0.025      0.975]\n",
      "------------------------------------------------------------------------------\n",
      "const          3.5212      0.374      9.411      0.000       2.783       4.259\n",
      "youtube        0.0458      0.001     32.833      0.000       0.043       0.049\n",
      "facebook       0.1886      0.009     21.912      0.000       0.172       0.206\n",
      "newspaper     -0.0010      0.006     -0.176      0.861      -0.013       0.011\n",
      "==============================================================================\n",
      "Omnibus:                       60.606   Durbin-Watson:                   2.083\n",
      "Prob(Omnibus):                  0.000   Jarque-Bera (JB):              152.128\n",
      "Skew:                          -1.331   Prob(JB):                     9.24e-34\n",
      "Kurtosis:                       6.343   Cond. No.                         545.\n",
      "==============================================================================\n",
      "\n",
      "Warnings:\n",
      "[1] Standard Errors assume that the covariance matrix of the errors is correctly specified.\n"
     ]
    },
    {
     "data": {
      "text/plain": [
       "11.238298061262167"
      ]
     },
     "execution_count": 2,
     "metadata": {},
     "output_type": "execute_result"
    }
   ],
   "source": [
    "##Linear Regression\n",
    "#Import Libraries\n",
    "import pandas as pd\n",
    "import statsmodels.api as sm\n",
    "import numpy as np\n",
    "\n",
    "#Import Data\n",
    "data = pd.read_csv('linear_regression_data.csv')\n",
    "data.info()\n",
    "\n",
    "#Split Dependent and Independent\n",
    "X = data[['youtube','facebook','newspaper']] \n",
    "Y = data['sales']\n",
    "\n",
    "#Train Model\n",
    "X = sm.add_constant(X) \n",
    "model = sm.OLS(Y, X).fit()\n",
    "print_model = model.summary()\n",
    "print(print_model)\n",
    "\n",
    "#Sales Prediction\n",
    "sales_pred = model.predict(X) \n",
    "\n",
    "#MAPE\n",
    "np.mean(np.abs((Y - sales_pred) / sales_pred)) * 100\n"
   ]
  }
 ],
 "metadata": {
  "kernelspec": {
   "display_name": "Python 3",
   "language": "python",
   "name": "python3"
  },
  "language_info": {
   "codemirror_mode": {
    "name": "ipython",
    "version": 3
   },
   "file_extension": ".py",
   "mimetype": "text/x-python",
   "name": "python",
   "nbconvert_exporter": "python",
   "pygments_lexer": "ipython3",
   "version": "3.8.8"
  }
 },
 "nbformat": 4,
 "nbformat_minor": 4
}
