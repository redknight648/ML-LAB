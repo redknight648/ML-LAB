{
 "cells": [
  {
   "cell_type": "code",
   "execution_count": 47,
   "metadata": {},
   "outputs": [],
   "source": [
    "import pandas as pd\n",
    "import matplotlib.pyplot as plt\n",
    "import seaborn as sns \n",
    "from sklearn.preprocessing import MinMaxScaler\n",
    "from sklearn.model_selection import train_test_split\n",
    "from sklearn.tree import DecisionTreeClassifier\n",
    "from sklearn.tree import plot_tree\n",
    "from sklearn import preprocessing\n",
    "from sklearn.metrics import classification_report, confusion_matrix"
   ]
  },
  {
   "cell_type": "code",
   "execution_count": 69,
   "metadata": {},
   "outputs": [
    {
     "name": "stdout",
     "output_type": "stream",
     "text": [
      "<class 'pandas.core.frame.DataFrame'>\n",
      "RangeIndex: 614 entries, 0 to 613\n",
      "Data columns (total 12 columns):\n",
      " #   Column                   Non-Null Count  Dtype \n",
      "---  ------                   --------------  ----- \n",
      " 0   Gender                   614 non-null    object\n",
      " 1   Married                  614 non-null    object\n",
      " 2   Dependents               614 non-null    object\n",
      " 3   Education                614 non-null    object\n",
      " 4   Self_Employed            614 non-null    object\n",
      " 5   ApplicantIncome_Label    614 non-null    object\n",
      " 6   CoapplicantIncome_Label  614 non-null    object\n",
      " 7   LoanAmount_Label         614 non-null    object\n",
      " 8   Term                     614 non-null    object\n",
      " 9   Credit_History           614 non-null    object\n",
      " 10  Property_Area            614 non-null    object\n",
      " 11  Decision                 614 non-null    object\n",
      "dtypes: object(12)\n",
      "memory usage: 57.7+ KB\n"
     ]
    }
   ],
   "source": [
    "data = pd.read_csv('chaid_model_data.csv')\n",
    "data.info()"
   ]
  },
  {
   "cell_type": "code",
   "execution_count": 33,
   "metadata": {},
   "outputs": [
    {
     "data": {
      "text/html": [
       "<div>\n",
       "<style scoped>\n",
       "    .dataframe tbody tr th:only-of-type {\n",
       "        vertical-align: middle;\n",
       "    }\n",
       "\n",
       "    .dataframe tbody tr th {\n",
       "        vertical-align: top;\n",
       "    }\n",
       "\n",
       "    .dataframe thead th {\n",
       "        text-align: right;\n",
       "    }\n",
       "</style>\n",
       "<table border=\"1\" class=\"dataframe\">\n",
       "  <thead>\n",
       "    <tr style=\"text-align: right;\">\n",
       "      <th></th>\n",
       "      <th>Gender</th>\n",
       "      <th>Married</th>\n",
       "      <th>Dependents</th>\n",
       "      <th>Education</th>\n",
       "      <th>Self_Employed</th>\n",
       "      <th>ApplicantIncome_Label</th>\n",
       "      <th>CoapplicantIncome_Label</th>\n",
       "      <th>LoanAmount_Label</th>\n",
       "      <th>Term</th>\n",
       "      <th>Credit_History</th>\n",
       "      <th>Property_Area</th>\n",
       "      <th>Decision</th>\n",
       "    </tr>\n",
       "  </thead>\n",
       "  <tbody>\n",
       "    <tr>\n",
       "      <th>0</th>\n",
       "      <td>Male</td>\n",
       "      <td>No</td>\n",
       "      <td>No</td>\n",
       "      <td>Graduate</td>\n",
       "      <td>No</td>\n",
       "      <td>Low</td>\n",
       "      <td>Low</td>\n",
       "      <td>Average</td>\n",
       "      <td>40Years</td>\n",
       "      <td>Yes</td>\n",
       "      <td>Urban</td>\n",
       "      <td>Y</td>\n",
       "    </tr>\n",
       "    <tr>\n",
       "      <th>1</th>\n",
       "      <td>Male</td>\n",
       "      <td>Yes</td>\n",
       "      <td>One</td>\n",
       "      <td>Graduate</td>\n",
       "      <td>No</td>\n",
       "      <td>Low</td>\n",
       "      <td>Low</td>\n",
       "      <td>Average</td>\n",
       "      <td>30Years</td>\n",
       "      <td>Yes</td>\n",
       "      <td>Rural</td>\n",
       "      <td>N</td>\n",
       "    </tr>\n",
       "    <tr>\n",
       "      <th>2</th>\n",
       "      <td>Male</td>\n",
       "      <td>Yes</td>\n",
       "      <td>No</td>\n",
       "      <td>Graduate</td>\n",
       "      <td>Yes</td>\n",
       "      <td>Low</td>\n",
       "      <td>Low</td>\n",
       "      <td>Few</td>\n",
       "      <td>30Years</td>\n",
       "      <td>Yes</td>\n",
       "      <td>Urban</td>\n",
       "      <td>Y</td>\n",
       "    </tr>\n",
       "    <tr>\n",
       "      <th>3</th>\n",
       "      <td>Male</td>\n",
       "      <td>Yes</td>\n",
       "      <td>No</td>\n",
       "      <td>Not Graduate</td>\n",
       "      <td>No</td>\n",
       "      <td>Low</td>\n",
       "      <td>Low</td>\n",
       "      <td>Average</td>\n",
       "      <td>30Years</td>\n",
       "      <td>Yes</td>\n",
       "      <td>Urban</td>\n",
       "      <td>Y</td>\n",
       "    </tr>\n",
       "    <tr>\n",
       "      <th>4</th>\n",
       "      <td>Male</td>\n",
       "      <td>No</td>\n",
       "      <td>No</td>\n",
       "      <td>Graduate</td>\n",
       "      <td>No</td>\n",
       "      <td>Low</td>\n",
       "      <td>Low</td>\n",
       "      <td>Average</td>\n",
       "      <td>30Years</td>\n",
       "      <td>Yes</td>\n",
       "      <td>Urban</td>\n",
       "      <td>Y</td>\n",
       "    </tr>\n",
       "  </tbody>\n",
       "</table>\n",
       "</div>"
      ],
      "text/plain": [
       "  Gender Married Dependents     Education Self_Employed ApplicantIncome_Label  \\\n",
       "0   Male      No         No      Graduate            No                   Low   \n",
       "1   Male     Yes        One      Graduate            No                   Low   \n",
       "2   Male     Yes         No      Graduate           Yes                   Low   \n",
       "3   Male     Yes         No  Not Graduate            No                   Low   \n",
       "4   Male      No         No      Graduate            No                   Low   \n",
       "\n",
       "  CoapplicantIncome_Label LoanAmount_Label     Term Credit_History  \\\n",
       "0                     Low          Average  40Years            Yes   \n",
       "1                     Low          Average  30Years            Yes   \n",
       "2                     Low              Few  30Years            Yes   \n",
       "3                     Low          Average  30Years            Yes   \n",
       "4                     Low          Average  30Years            Yes   \n",
       "\n",
       "  Property_Area Decision  \n",
       "0         Urban        Y  \n",
       "1         Rural        N  \n",
       "2         Urban        Y  \n",
       "3         Urban        Y  \n",
       "4         Urban        Y  "
      ]
     },
     "execution_count": 33,
     "metadata": {},
     "output_type": "execute_result"
    }
   ],
   "source": [
    "data.head()"
   ]
  },
  {
   "cell_type": "markdown",
   "metadata": {},
   "source": [
    "EDA"
   ]
  },
  {
   "cell_type": "code",
   "execution_count": 34,
   "metadata": {},
   "outputs": [
    {
     "data": {
      "text/plain": [
       "Gender                     0\n",
       "Married                    0\n",
       "Dependents                 0\n",
       "Education                  0\n",
       "Self_Employed              0\n",
       "ApplicantIncome_Label      0\n",
       "CoapplicantIncome_Label    0\n",
       "LoanAmount_Label           0\n",
       "Term                       0\n",
       "Credit_History             0\n",
       "Property_Area              0\n",
       "Decision                   0\n",
       "dtype: int64"
      ]
     },
     "execution_count": 34,
     "metadata": {},
     "output_type": "execute_result"
    }
   ],
   "source": [
    "data.isnull().sum()"
   ]
  },
  {
   "cell_type": "code",
   "execution_count": 36,
   "metadata": {},
   "outputs": [],
   "source": [
    "chaid_data = data"
   ]
  },
  {
   "cell_type": "code",
   "execution_count": 37,
   "metadata": {},
   "outputs": [
    {
     "data": {
      "image/png": "[encoded data removed]",
      "text/plain": [
       "<Figure size 720x360 with 1 Axes>"
      ]
     },
     "metadata": {
      "needs_background": "light"
     },
     "output_type": "display_data"
    }
   ],
   "source": [
    "plt.figure(figsize=(10,5))\n",
    "sns.countplot(x='Gender',data=data,hue='Decision',palette='Greens_d')\n",
    "plt.show()"
   ]
  },
  {
   "cell_type": "code",
   "execution_count": 38,
   "metadata": {},
   "outputs": [
    {
     "data": {
      "image/png": "[encoded data removed]",
      "text/plain": [
       "<Figure size 360x360 with 1 Axes>"
      ]
     },
     "metadata": {
      "needs_background": "light"
     },
     "output_type": "display_data"
    }
   ],
   "source": [
    "plt.figure(figsize=(5,5))\n",
    "sns.countplot(x='Decision',data=data,palette='deep')\n",
    "plt.show()"
   ]
  },
  {
   "cell_type": "code",
   "execution_count": 61,
   "metadata": {},
   "outputs": [],
   "source": [
    "label_encoder = preprocessing.LabelEncoder()\n",
    "data['Decision']= label_encoder.fit_transform(data['Decision'])\n",
    "data['Gender']= label_encoder.fit_transform(data['Gender'])\n",
    "data['Education']= label_encoder.fit_transform(data['Education'])\n",
    "data['Married']= label_encoder.fit_transform(data['Married'])\n",
    "data['Dependents']= label_encoder.fit_transform(data['Dependents'])\n",
    "data['Self_Employed']= label_encoder.fit_transform(data['Self_Employed'])\n",
    "data['ApplicantIncome_Label']= label_encoder.fit_transform(data['ApplicantIncome_Label'])\n",
    "data['CoapplicantIncome_Label']= label_encoder.fit_transform(data['CoapplicantIncome_Label'])\n",
    "data['LoanAmount_Label']= label_encoder.fit_transform(data['LoanAmount_Label'])\n",
    "data['Term']= label_encoder.fit_transform(data['Term'])\n",
    "data['Credit_History']= label_encoder.fit_transform(data['Credit_History'])\n",
    "data['Property_Area']= label_encoder.fit_transform(data['Property_Area'])"
   ]
  },
  {
   "cell_type": "code",
   "execution_count": 62,
   "metadata": {},
   "outputs": [
    {
     "data": {
      "text/html": [
       "<div>\n",
       "<style scoped>\n",
       "    .dataframe tbody tr th:only-of-type {\n",
       "        vertical-align: middle;\n",
       "    }\n",
       "\n",
       "    .dataframe tbody tr th {\n",
       "        vertical-align: top;\n",
       "    }\n",
       "\n",
       "    .dataframe thead th {\n",
       "        text-align: right;\n",
       "    }\n",
       "</style>\n",
       "<table border=\"1\" class=\"dataframe\">\n",
       "  <thead>\n",
       "    <tr style=\"text-align: right;\">\n",
       "      <th></th>\n",
       "      <th>Gender</th>\n",
       "      <th>Married</th>\n",
       "      <th>Dependents</th>\n",
       "      <th>Education</th>\n",
       "      <th>Self_Employed</th>\n",
       "      <th>ApplicantIncome_Label</th>\n",
       "      <th>CoapplicantIncome_Label</th>\n",
       "      <th>LoanAmount_Label</th>\n",
       "      <th>Term</th>\n",
       "      <th>Credit_History</th>\n",
       "      <th>Property_Area</th>\n",
       "      <th>Decision</th>\n",
       "    </tr>\n",
       "  </thead>\n",
       "  <tbody>\n",
       "    <tr>\n",
       "      <th>0</th>\n",
       "      <td>1</td>\n",
       "      <td>0</td>\n",
       "      <td>0</td>\n",
       "      <td>0</td>\n",
       "      <td>0</td>\n",
       "      <td>1</td>\n",
       "      <td>0</td>\n",
       "      <td>0</td>\n",
       "      <td>7</td>\n",
       "      <td>1</td>\n",
       "      <td>2</td>\n",
       "      <td>1</td>\n",
       "    </tr>\n",
       "    <tr>\n",
       "      <th>1</th>\n",
       "      <td>1</td>\n",
       "      <td>1</td>\n",
       "      <td>1</td>\n",
       "      <td>0</td>\n",
       "      <td>0</td>\n",
       "      <td>1</td>\n",
       "      <td>0</td>\n",
       "      <td>0</td>\n",
       "      <td>5</td>\n",
       "      <td>1</td>\n",
       "      <td>0</td>\n",
       "      <td>0</td>\n",
       "    </tr>\n",
       "    <tr>\n",
       "      <th>2</th>\n",
       "      <td>1</td>\n",
       "      <td>1</td>\n",
       "      <td>0</td>\n",
       "      <td>0</td>\n",
       "      <td>1</td>\n",
       "      <td>1</td>\n",
       "      <td>0</td>\n",
       "      <td>1</td>\n",
       "      <td>5</td>\n",
       "      <td>1</td>\n",
       "      <td>2</td>\n",
       "      <td>1</td>\n",
       "    </tr>\n",
       "    <tr>\n",
       "      <th>3</th>\n",
       "      <td>1</td>\n",
       "      <td>1</td>\n",
       "      <td>0</td>\n",
       "      <td>1</td>\n",
       "      <td>0</td>\n",
       "      <td>1</td>\n",
       "      <td>0</td>\n",
       "      <td>0</td>\n",
       "      <td>5</td>\n",
       "      <td>1</td>\n",
       "      <td>2</td>\n",
       "      <td>1</td>\n",
       "    </tr>\n",
       "    <tr>\n",
       "      <th>4</th>\n",
       "      <td>1</td>\n",
       "      <td>0</td>\n",
       "      <td>0</td>\n",
       "      <td>0</td>\n",
       "      <td>0</td>\n",
       "      <td>1</td>\n",
       "      <td>0</td>\n",
       "      <td>0</td>\n",
       "      <td>5</td>\n",
       "      <td>1</td>\n",
       "      <td>2</td>\n",
       "      <td>1</td>\n",
       "    </tr>\n",
       "  </tbody>\n",
       "</table>\n",
       "</div>"
      ],
      "text/plain": [
       "   Gender  Married  Dependents  Education  Self_Employed  \\\n",
       "0       1        0           0          0              0   \n",
       "1       1        1           1          0              0   \n",
       "2       1        1           0          0              1   \n",
       "3       1        1           0          1              0   \n",
       "4       1        0           0          0              0   \n",
       "\n",
       "   ApplicantIncome_Label  CoapplicantIncome_Label  LoanAmount_Label  Term  \\\n",
       "0                      1                        0                 0     7   \n",
       "1                      1                        0                 0     5   \n",
       "2                      1                        0                 1     5   \n",
       "3                      1                        0                 0     5   \n",
       "4                      1                        0                 0     5   \n",
       "\n",
       "   Credit_History  Property_Area  Decision  \n",
       "0               1              2         1  \n",
       "1               1              0         0  \n",
       "2               1              2         1  \n",
       "3               1              2         1  \n",
       "4               1              2         1  "
      ]
     },
     "execution_count": 62,
     "metadata": {},
     "output_type": "execute_result"
    }
   ],
   "source": [
    "data.head()"
   ]
  },
  {
   "cell_type": "code",
   "execution_count": 63,
   "metadata": {},
   "outputs": [],
   "source": [
    "y = data['Decision']\n",
    "X = data.drop(['Decision'], axis=1)\n",
    "\n",
    "xtrain,xtest,ytrain,ytest=train_test_split(X,y,test_size=0.2,random_state=0)"
   ]
  },
  {
   "cell_type": "code",
   "execution_count": 56,
   "metadata": {},
   "outputs": [
    {
     "data": {
      "text/plain": [
       "90     1\n",
       "533    0\n",
       "452    0\n",
       "355    1\n",
       "266    1\n",
       "      ..\n",
       "277    1\n",
       "9      0\n",
       "359    1\n",
       "192    0\n",
       "559    1\n",
       "Name: Decision, Length: 491, dtype: int64"
      ]
     },
     "execution_count": 56,
     "metadata": {},
     "output_type": "execute_result"
    }
   ],
   "source": [
    "ytrain"
   ]
  },
  {
   "cell_type": "code",
   "execution_count": null,
   "metadata": {},
   "outputs": [],
   "source": []
  },
  {
   "cell_type": "code",
   "execution_count": 64,
   "metadata": {},
   "outputs": [],
   "source": [
    "model = DecisionTreeClassifier(max_depth=4, min_samples_leaf=3)\n",
    "# model = DecisionTreeClassifier()\n",
    "model = model.fit(xtrain, ytrain)"
   ]
  },
  {
   "cell_type": "code",
   "execution_count": 65,
   "metadata": {},
   "outputs": [
    {
     "data": {
      "text/plain": [
       "[Text(627.75, 733.86, 'Credit_History <= 0.5\\ngini = 0.438\\nsamples = 491\\nvalue = [159, 332]\\nclass = 0'),\n",
       " Text(348.75, 570.78, 'LoanAmount_Label <= 1.5\\ngini = 0.232\\nsamples = 82\\nvalue = [71, 11]\\nclass = 1'),\n",
       " Text(279.0, 407.70000000000005, 'Dependents <= 1.5\\ngini = 0.206\\nsamples = 77\\nvalue = [68, 9]\\nclass = 1'),\n",
       " Text(139.5, 244.62, 'Property_Area <= 0.5\\ngini = 0.14\\nsamples = 53\\nvalue = [49, 4]\\nclass = 1'),\n",
       " Text(69.75, 81.54000000000008, 'gini = 0.266\\nsamples = 19\\nvalue = [16, 3]\\nclass = 1'),\n",
       " Text(209.25, 81.54000000000008, 'gini = 0.057\\nsamples = 34\\nvalue = [33, 1]\\nclass = 1'),\n",
       " Text(418.5, 244.62, 'Property_Area <= 0.5\\ngini = 0.33\\nsamples = 24\\nvalue = [19, 5]\\nclass = 1'),\n",
       " Text(348.75, 81.54000000000008, 'gini = 0.0\\nsamples = 6\\nvalue = [6, 0]\\nclass = 1'),\n",
       " Text(488.25, 81.54000000000008, 'gini = 0.401\\nsamples = 18\\nvalue = [13, 5]\\nclass = 1'),\n",
       " Text(418.5, 407.70000000000005, 'gini = 0.48\\nsamples = 5\\nvalue = [3, 2]\\nclass = 1'),\n",
       " Text(906.75, 570.78, 'CoapplicantIncome_Label <= 0.5\\ngini = 0.338\\nsamples = 409\\nvalue = [88, 321]\\nclass = 0'),\n",
       " Text(837.0, 407.70000000000005, 'Property_Area <= 0.5\\ngini = 0.332\\nsamples = 405\\nvalue = [85, 320]\\nclass = 0'),\n",
       " Text(697.5, 244.62, 'LoanAmount_Label <= 0.5\\ngini = 0.414\\nsamples = 116\\nvalue = [34, 82]\\nclass = 0'),\n",
       " Text(627.75, 81.54000000000008, 'gini = 0.344\\nsamples = 86\\nvalue = [19, 67]\\nclass = 0'),\n",
       " Text(767.25, 81.54000000000008, 'gini = 0.5\\nsamples = 30\\nvalue = [15, 15]\\nclass = 1'),\n",
       " Text(976.5, 244.62, 'Property_Area <= 1.5\\ngini = 0.291\\nsamples = 289\\nvalue = [51, 238]\\nclass = 0'),\n",
       " Text(906.75, 81.54000000000008, 'gini = 0.242\\nsamples = 156\\nvalue = [22, 134]\\nclass = 0'),\n",
       " Text(1046.25, 81.54000000000008, 'gini = 0.341\\nsamples = 133\\nvalue = [29, 104]\\nclass = 0'),\n",
       " Text(976.5, 407.70000000000005, 'gini = 0.375\\nsamples = 4\\nvalue = [3, 1]\\nclass = 1')]"
      ]
     },
     "execution_count": 65,
     "metadata": {},
     "output_type": "execute_result"
    },
    {
     "data": {
      "image/png": "[encoded data removed]",
      "text/plain": [
       "<Figure size 1440x1080 with 1 Axes>"
      ]
     },
     "metadata": {
      "needs_background": "light"
     },
     "output_type": "display_data"
    }
   ],
   "source": [
    "dt_feature_names = list(xtrain.columns)\n",
    "dt_target_names = [str(s) for s in ytrain.unique()]\n",
    "plt.figure(figsize = (20,15))\n",
    "plot_tree(model,feature_names = dt_feature_names, class_names = dt_target_names, filled = True)"
   ]
  },
  {
   "cell_type": "code",
   "execution_count": 66,
   "metadata": {},
   "outputs": [
    {
     "name": "stdout",
     "output_type": "stream",
     "text": [
      "[[19 14]\n",
      " [ 6 84]]\n",
      "              precision    recall  f1-score   support\n",
      "\n",
      "           0       0.76      0.58      0.66        33\n",
      "           1       0.86      0.93      0.89        90\n",
      "\n",
      "    accuracy                           0.84       123\n",
      "   macro avg       0.81      0.75      0.77       123\n",
      "weighted avg       0.83      0.84      0.83       123\n",
      "\n"
     ]
    }
   ],
   "source": [
    "y_pred_test = model.predict(xtest)\n",
    "print(confusion_matrix(ytest, y_pred_test))\n",
    "print(classification_report(ytest, y_pred_test))"
   ]
  },
  {
   "cell_type": "code",
   "execution_count": 67,
   "metadata": {},
   "outputs": [
    {
     "name": "stdout",
     "output_type": "stream",
     "text": [
      "[[ 89  70]\n",
      " [ 27 305]]\n",
      "              precision    recall  f1-score   support\n",
      "\n",
      "           0       0.77      0.56      0.65       159\n",
      "           1       0.81      0.92      0.86       332\n",
      "\n",
      "    accuracy                           0.80       491\n",
      "   macro avg       0.79      0.74      0.76       491\n",
      "weighted avg       0.80      0.80      0.79       491\n",
      "\n"
     ]
    }
   ],
   "source": [
    "y_pred_train = model.predict(xtrain)\n",
    "print(confusion_matrix(ytrain, y_pred_train))\n",
    "print(classification_report(ytrain, y_pred_train))"
   ]
  },
  {
   "cell_type": "code",
   "execution_count": 18,
   "metadata": {},
   "outputs": [],
   "source": [
    "#pip install chefboost"
   ]
  },
  {
   "cell_type": "code",
   "execution_count": 75,
   "metadata": {},
   "outputs": [
    {
     "name": "stdout",
     "output_type": "stream",
     "text": [
      "<class 'pandas.core.frame.DataFrame'>\n",
      "RangeIndex: 614 entries, 0 to 613\n",
      "Data columns (total 12 columns):\n",
      " #   Column                   Non-Null Count  Dtype \n",
      "---  ------                   --------------  ----- \n",
      " 0   Gender                   614 non-null    object\n",
      " 1   Married                  614 non-null    object\n",
      " 2   Dependents               614 non-null    object\n",
      " 3   Education                614 non-null    object\n",
      " 4   Self_Employed            614 non-null    object\n",
      " 5   ApplicantIncome_Label    614 non-null    object\n",
      " 6   CoapplicantIncome_Label  614 non-null    object\n",
      " 7   LoanAmount_Label         614 non-null    object\n",
      " 8   Term                     614 non-null    object\n",
      " 9   Credit_History           614 non-null    object\n",
      " 10  Property_Area            614 non-null    object\n",
      " 11  Decision                 614 non-null    object\n",
      "dtypes: object(12)\n",
      "memory usage: 57.7+ KB\n"
     ]
    }
   ],
   "source": [
    "data.info()"
   ]
  },
  {
   "cell_type": "code",
   "execution_count": 76,
   "metadata": {},
   "outputs": [
    {
     "data": {
      "text/html": [
       "<div>\n",
       "<style scoped>\n",
       "    .dataframe tbody tr th:only-of-type {\n",
       "        vertical-align: middle;\n",
       "    }\n",
       "\n",
       "    .dataframe tbody tr th {\n",
       "        vertical-align: top;\n",
       "    }\n",
       "\n",
       "    .dataframe thead th {\n",
       "        text-align: right;\n",
       "    }\n",
       "</style>\n",
       "<table border=\"1\" class=\"dataframe\">\n",
       "  <thead>\n",
       "    <tr style=\"text-align: right;\">\n",
       "      <th></th>\n",
       "      <th>Gender</th>\n",
       "      <th>Married</th>\n",
       "      <th>Dependents</th>\n",
       "      <th>Education</th>\n",
       "      <th>Self_Employed</th>\n",
       "      <th>ApplicantIncome_Label</th>\n",
       "      <th>CoapplicantIncome_Label</th>\n",
       "      <th>LoanAmount_Label</th>\n",
       "      <th>Term</th>\n",
       "      <th>Credit_History</th>\n",
       "      <th>Property_Area</th>\n",
       "      <th>Decision</th>\n",
       "    </tr>\n",
       "  </thead>\n",
       "  <tbody>\n",
       "    <tr>\n",
       "      <th>0</th>\n",
       "      <td>Male</td>\n",
       "      <td>No</td>\n",
       "      <td>No</td>\n",
       "      <td>Graduate</td>\n",
       "      <td>No</td>\n",
       "      <td>Low</td>\n",
       "      <td>Low</td>\n",
       "      <td>Average</td>\n",
       "      <td>40Years</td>\n",
       "      <td>Yes</td>\n",
       "      <td>Urban</td>\n",
       "      <td>Y</td>\n",
       "    </tr>\n",
       "    <tr>\n",
       "      <th>1</th>\n",
       "      <td>Male</td>\n",
       "      <td>Yes</td>\n",
       "      <td>One</td>\n",
       "      <td>Graduate</td>\n",
       "      <td>No</td>\n",
       "      <td>Low</td>\n",
       "      <td>Low</td>\n",
       "      <td>Average</td>\n",
       "      <td>30Years</td>\n",
       "      <td>Yes</td>\n",
       "      <td>Rural</td>\n",
       "      <td>N</td>\n",
       "    </tr>\n",
       "    <tr>\n",
       "      <th>2</th>\n",
       "      <td>Male</td>\n",
       "      <td>Yes</td>\n",
       "      <td>No</td>\n",
       "      <td>Graduate</td>\n",
       "      <td>Yes</td>\n",
       "      <td>Low</td>\n",
       "      <td>Low</td>\n",
       "      <td>Few</td>\n",
       "      <td>30Years</td>\n",
       "      <td>Yes</td>\n",
       "      <td>Urban</td>\n",
       "      <td>Y</td>\n",
       "    </tr>\n",
       "    <tr>\n",
       "      <th>3</th>\n",
       "      <td>Male</td>\n",
       "      <td>Yes</td>\n",
       "      <td>No</td>\n",
       "      <td>Not Graduate</td>\n",
       "      <td>No</td>\n",
       "      <td>Low</td>\n",
       "      <td>Low</td>\n",
       "      <td>Average</td>\n",
       "      <td>30Years</td>\n",
       "      <td>Yes</td>\n",
       "      <td>Urban</td>\n",
       "      <td>Y</td>\n",
       "    </tr>\n",
       "    <tr>\n",
       "      <th>4</th>\n",
       "      <td>Male</td>\n",
       "      <td>No</td>\n",
       "      <td>No</td>\n",
       "      <td>Graduate</td>\n",
       "      <td>No</td>\n",
       "      <td>Low</td>\n",
       "      <td>Low</td>\n",
       "      <td>Average</td>\n",
       "      <td>30Years</td>\n",
       "      <td>Yes</td>\n",
       "      <td>Urban</td>\n",
       "      <td>Y</td>\n",
       "    </tr>\n",
       "  </tbody>\n",
       "</table>\n",
       "</div>"
      ],
      "text/plain": [
       "  Gender Married Dependents     Education Self_Employed ApplicantIncome_Label  \\\n",
       "0   Male      No         No      Graduate            No                   Low   \n",
       "1   Male     Yes        One      Graduate            No                   Low   \n",
       "2   Male     Yes         No      Graduate           Yes                   Low   \n",
       "3   Male     Yes         No  Not Graduate            No                   Low   \n",
       "4   Male      No         No      Graduate            No                   Low   \n",
       "\n",
       "  CoapplicantIncome_Label LoanAmount_Label     Term Credit_History  \\\n",
       "0                     Low          Average  40Years            Yes   \n",
       "1                     Low          Average  30Years            Yes   \n",
       "2                     Low              Few  30Years            Yes   \n",
       "3                     Low          Average  30Years            Yes   \n",
       "4                     Low          Average  30Years            Yes   \n",
       "\n",
       "  Property_Area Decision  \n",
       "0         Urban        Y  \n",
       "1         Rural        N  \n",
       "2         Urban        Y  \n",
       "3         Urban        Y  \n",
       "4         Urban        Y  "
      ]
     },
     "execution_count": 76,
     "metadata": {},
     "output_type": "execute_result"
    }
   ],
   "source": [
    "data.head()"
   ]
  },
  {
   "cell_type": "code",
   "execution_count": 77,
   "metadata": {},
   "outputs": [],
   "source": [
    "y = data['Decision']\n",
    "X = data.drop(['Decision'], axis=1)\n",
    "\n",
    "xtrain,xtest,ytrain,ytest=train_test_split(X,y,test_size=0.2,random_state=0)"
   ]
  },
  {
   "cell_type": "code",
   "execution_count": 83,
   "metadata": {},
   "outputs": [
    {
     "name": "stdout",
     "output_type": "stream",
     "text": [
      "<class 'pandas.core.frame.DataFrame'>\n",
      "Int64Index: 491 entries, 90 to 559\n",
      "Data columns (total 12 columns):\n",
      " #   Column                   Non-Null Count  Dtype \n",
      "---  ------                   --------------  ----- \n",
      " 0   Gender                   491 non-null    object\n",
      " 1   Married                  491 non-null    object\n",
      " 2   Dependents               491 non-null    object\n",
      " 3   Education                491 non-null    object\n",
      " 4   Self_Employed            491 non-null    object\n",
      " 5   ApplicantIncome_Label    491 non-null    object\n",
      " 6   CoapplicantIncome_Label  491 non-null    object\n",
      " 7   LoanAmount_Label         491 non-null    object\n",
      " 8   Term                     491 non-null    object\n",
      " 9   Credit_History           491 non-null    object\n",
      " 10  Property_Area            491 non-null    object\n",
      " 11  Decision                 491 non-null    object\n",
      "dtypes: object(12)\n",
      "memory usage: 49.9+ KB\n"
     ]
    }
   ],
   "source": [
    "train_data = pd.concat([xtrain,ytrain], axis = 1)\n",
    "train_data.info()"
   ]
  },
  {
   "cell_type": "code",
   "execution_count": 84,
   "metadata": {},
   "outputs": [
    {
     "name": "stdout",
     "output_type": "stream",
     "text": [
      "[INFO]:  4 CPU cores will be allocated in parallel running\n",
      "C4.5  tree is going to be built...\n",
      "-------------------------\n",
      "finished in  18.58590269088745  seconds\n",
      "-------------------------\n",
      "Evaluate  train set\n",
      "-------------------------\n",
      "Accuracy:  89.81670061099797 % on  491  instances\n",
      "Labels:  ['Y' 'N']\n",
      "Confusion matrix:  [[325, 43], [7, 116]]\n",
      "Precision:  88.3152 %, Recall:  97.8916 %, F1:  92.8571 %\n"
     ]
    }
   ],
   "source": [
    "from chefboost import Chefboost as cb\n",
    "\n",
    "config = {\"algorithm\": \"C4.5\", \"max_depth\": 3, \"Parallelism\": True}\n",
    "dtree2 = cb.fit(train_data, config, target_label = 'Decision')"
   ]
  },
  {
   "cell_type": "code",
   "execution_count": 95,
   "metadata": {},
   "outputs": [
    {
     "data": {
      "text/plain": [
       "'N'"
      ]
     },
     "execution_count": 95,
     "metadata": {},
     "output_type": "execute_result"
    }
   ],
   "source": [
    "prediction = cb.predict(dtree2, param = xtest.iloc[0])\n",
    "prediction"
   ]
  }
 ],
 "metadata": {
  "kernelspec": {
   "display_name": "Python 3",
   "language": "python",
   "name": "python3"
  },
  "language_info": {
   "codemirror_mode": {
    "name": "ipython",
    "version": 3
   },
   "file_extension": ".py",
   "mimetype": "text/x-python",
   "name": "python",
   "nbconvert_exporter": "python",
   "pygments_lexer": "ipython3",
   "version": "3.7.6"
  }
 },
 "nbformat": 4,
 "nbformat_minor": 4
}
